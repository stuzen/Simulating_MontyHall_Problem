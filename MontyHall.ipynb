{
 "cells": [
  {
   "cell_type": "markdown",
   "metadata": {},
   "source": [
    "##                     Monty Hall Problem\n",
    "\n",
    "The Monty Hall problem is a brain teaser, in the form of a probability puzzle, loosely based on the American television game show Let's Make a Deal and named after its original host, Monty Hall. \n",
    "\n",
    "The problem was originally posed and solved in a letter by Steve Selvin to the American Statistician in 1975. It became famous as a question from a reader's letter quoted in Marilyn vos Savant's \"Ask Marilyn\" column in Parade magazine in 1990:\n",
    "\n",
    "Suppose you're on a game show, and you're given the choice of three doors: Behind one door is a car; behind the others, goats. You pick a door, say No. 1, and the host, who knows what's behind the doors, opens another door, say No. 3, which has a goat. He then says to you, \"Do you want to pick door No. 2?\" Is it to your advantage to switch your choice?"
   ]
  },
  {
   "cell_type": "code",
   "execution_count": 31,
   "metadata": {},
   "outputs": [],
   "source": [
    "import random\n",
    "import matplotlib.pyplot as plt\n",
    "import seaborn as sns"
   ]
  },
  {
   "cell_type": "code",
   "execution_count": 43,
   "metadata": {},
   "outputs": [],
   "source": [
    "win_lose=[]"
   ]
  },
  {
   "cell_type": "code",
   "execution_count": 38,
   "metadata": {},
   "outputs": [],
   "source": [
    "def monty():\n",
    "    c=random.randint(1,3)\n",
    "    g1,g2=[i for i in [1,2,3] if i!=c]\n",
    "    selection=int(input(\"Select one of the three doors:\"))\n",
    "    \n",
    "    if selection==c:\n",
    "        reveal=random.choice([g1,g2])\n",
    "        print(\"There is a goat behind the door {}\".format(reveal))\n",
    "        answer=input(\"Do you want to switch? Yes/No\")\n",
    "        if answer==\"Yes\":\n",
    "            selection2=[i for i in [g1,g2] if i!=reveal]\n",
    "            print(\"You lost the car!\")\n",
    "            win_lose.append(\"lose\")\n",
    "        if answer==\"No\":\n",
    "            selection2=c\n",
    "            print(\"You won the car!\")\n",
    "            win_lose.append(\"win\")\n",
    "            \n",
    "    elif selection==g1:\n",
    "        reveal=g2\n",
    "        print(\"There is goat behind the door {}\".format(reveal))\n",
    "        answer=input(\"Do you want to switch? Yes/No\")\n",
    "        if answer==\"Yes\":\n",
    "            selection2=c\n",
    "            print(\"You won the car!\")\n",
    "            win_lose.append(\"win\")\n",
    "        elif answer==\"No\":\n",
    "            selection2=g1\n",
    "            print(\"You lost!\")\n",
    "            win_lose.append(\"lose\")\n",
    "            \n",
    "    elif selection==g2:\n",
    "        reveal=g1\n",
    "        print(\"There is goat behind the door {}\".format(reveal))\n",
    "        answer=input(\"Do you want to switch? Yes/No\")\n",
    "        if answer==\"Yes\":\n",
    "            selection2=c\n",
    "            print(\"You won the car!\")\n",
    "            win_lose.append(\"win\")\n",
    "        elif answer==\"No\":\n",
    "            selection2=g2\n",
    "            win_lose.append(\"lose\")\n",
    "            print(\"You lost!\")\n",
    "    else:\n",
    "        print(\"The game is end\")         "
   ]
  },
  {
   "cell_type": "code",
   "execution_count": 24,
   "metadata": {
    "collapsed": true
   },
   "outputs": [
    {
     "name": "stdout",
     "output_type": "stream",
     "text": [
      "Select one of the three doors:1\n",
      "There is a goat behind the door 3\n",
      "Do you want to switch? Yes/NoYes\n",
      "You lost the car!\n",
      "Select one of the three doors:2\n",
      "There is a goat behind the door 1\n",
      "Do you want to switch? Yes/NoYes\n",
      "You lost the car!\n",
      "Select one of the three doors:3\n",
      "There is a goat behind the door 2\n",
      "Do you want to switch? Yes/NoYes\n",
      "You lost the car!\n",
      "Select one of the three doors:1\n",
      "There is a goat behind the door 2\n",
      "Do you want to switch? Yes/NoYes\n",
      "You lost the car!\n",
      "Select one of the three doors:2\n",
      "There is goat behind the door 1\n",
      "Do you want to switch? Yes/NoYes\n",
      "You won the car!\n",
      "Select one of the three doors:3\n",
      "There is goat behind the door 2\n",
      "Do you want to switch? Yes/NoYes\n",
      "You won the car!\n",
      "Select one of the three doors:2\n",
      "There is goat behind the door 1\n",
      "Do you want to switch? Yes/NoYes\n",
      "You won the car!\n",
      "Select one of the three doors:3\n",
      "There is goat behind the door 2\n",
      "Do you want to switch? Yes/NoYes\n",
      "You won the car!\n",
      "Select one of the three doors:3\n",
      "There is goat behind the door 1\n",
      "Do you want to switch? Yes/NoYes\n",
      "You won the car!\n",
      "Select one of the three doors:2\n",
      "There is a goat behind the door 1\n",
      "Do you want to switch? Yes/NoYes\n",
      "You lost the car!\n",
      "Select one of the three doors:3\n",
      "There is goat behind the door 1\n",
      "Do you want to switch? Yes/NoYes\n",
      "You won the car!\n",
      "Select one of the three doors:3\n",
      "There is a goat behind the door 2\n",
      "Do you want to switch? Yes/NoYes\n",
      "You lost the car!\n",
      "Select one of the three doors:2\n",
      "There is goat behind the door 3\n",
      "Do you want to switch? Yes/NoYes\n",
      "You won the car!\n",
      "Select one of the three doors:1\n",
      "There is goat behind the door 3\n",
      "Do you want to switch? Yes/NoYes\n",
      "You won the car!\n",
      "Select one of the three doors:1\n",
      "There is goat behind the door 2\n",
      "Do you want to switch? Yes/NoYes\n",
      "You won the car!\n",
      "Select one of the three doors:1\n",
      "There is goat behind the door 2\n",
      "Do you want to switch? Yes/NoYes\n",
      "You won the car!\n",
      "Select one of the three doors:3\n",
      "There is goat behind the door 2\n",
      "Do you want to switch? Yes/NoYes\n",
      "You won the car!\n",
      "Select one of the three doors:3\n",
      "There is goat behind the door 2\n",
      "Do you want to switch? Yes/NoYes\n",
      "You won the car!\n",
      "Select one of the three doors:3\n",
      "There is goat behind the door 1\n",
      "Do you want to switch? Yes/NoYes\n",
      "You won the car!\n",
      "Select one of the three doors:1\n",
      "There is goat behind the door 3\n",
      "Do you want to switch? Yes/NoYes\n",
      "You won the car!\n"
     ]
    },
    {
     "ename": "SyntaxError",
     "evalue": "'return' outside function (<ipython-input-24-34ea3b0449c8>, line 3)",
     "output_type": "error",
     "traceback": [
      "\u001b[0;36m  File \u001b[0;32m\"<ipython-input-24-34ea3b0449c8>\"\u001b[0;36m, line \u001b[0;32m3\u001b[0m\n\u001b[0;31m    return win_lose\u001b[0m\n\u001b[0m                   ^\u001b[0m\n\u001b[0;31mSyntaxError\u001b[0m\u001b[0;31m:\u001b[0m 'return' outside function\n"
     ]
    }
   ],
   "source": [
    "#Always switching doors\n",
    "for i in range(20):\n",
    "    monty()\n",
    "print(win_lose)"
   ]
  },
  {
   "cell_type": "code",
   "execution_count": 35,
   "metadata": {},
   "outputs": [
    {
     "data": {
      "text/plain": [
       "<matplotlib.axes._subplots.AxesSubplot at 0x7faacd75e190>"
      ]
     },
     "execution_count": 35,
     "metadata": {},
     "output_type": "execute_result"
    },
    {
     "data": {
      "image/png": "[encoded data removed]",
      "text/plain": [
       "<Figure size 432x288 with 1 Axes>"
      ]
     },
     "metadata": {
      "needs_background": "light"
     },
     "output_type": "display_data"
    }
   ],
   "source": [
    "# If switch the doors, the player wins more overall.\n",
    "fig,ax=plt.subplots()\n",
    "sns.countplot(win_lose)"
   ]
  },
  {
   "cell_type": "code",
   "execution_count": 44,
   "metadata": {
    "collapsed": true
   },
   "outputs": [
    {
     "name": "stdout",
     "output_type": "stream",
     "text": [
      "Select one of the three doors:1\n",
      "There is a goat behind the door 3\n",
      "Do you want to switch? Yes/NoNo\n",
      "You won the car!\n",
      "Select one of the three doors:2\n",
      "There is goat behind the door 1\n",
      "Do you want to switch? Yes/NoNo\n",
      "You lost!\n",
      "Select one of the three doors:3\n",
      "There is goat behind the door 1\n",
      "Do you want to switch? Yes/NoNo\n",
      "You lost!\n",
      "Select one of the three doors:2\n",
      "There is goat behind the door 3\n",
      "Do you want to switch? Yes/NoNo\n",
      "You lost!\n",
      "Select one of the three doors:2\n",
      "There is goat behind the door 1\n",
      "Do you want to switch? Yes/NoNo\n",
      "You lost!\n",
      "Select one of the three doors:3\n",
      "There is a goat behind the door 1\n",
      "Do you want to switch? Yes/NoNo\n",
      "You won the car!\n",
      "Select one of the three doors:2\n",
      "There is a goat behind the door 3\n",
      "Do you want to switch? Yes/NoNo\n",
      "You won the car!\n",
      "Select one of the three doors:1\n",
      "There is a goat behind the door 3\n",
      "Do you want to switch? Yes/NoNo\n",
      "You won the car!\n",
      "Select one of the three doors:2\n",
      "There is goat behind the door 3\n",
      "Do you want to switch? Yes/NoNo\n",
      "You lost!\n",
      "Select one of the three doors:3\n",
      "There is goat behind the door 2\n",
      "Do you want to switch? Yes/NoNo\n",
      "You lost!\n",
      "Select one of the three doors:2\n",
      "There is goat behind the door 3\n",
      "Do you want to switch? Yes/NoNo\n",
      "You lost!\n",
      "Select one of the three doors:3\n",
      "There is a goat behind the door 1\n",
      "Do you want to switch? Yes/NoNo\n",
      "You won the car!\n",
      "Select one of the three doors:1\n",
      "There is a goat behind the door 2\n",
      "Do you want to switch? Yes/NoNo\n",
      "You won the car!\n",
      "Select one of the three doors:2\n",
      "There is goat behind the door 3\n",
      "Do you want to switch? Yes/NoNo\n",
      "You lost!\n",
      "Select one of the three doors:2\n",
      "There is goat behind the door 3\n",
      "Do you want to switch? Yes/NoNo\n",
      "You lost!\n",
      "Select one of the three doors:3\n",
      "There is goat behind the door 2\n",
      "Do you want to switch? Yes/NoNo\n",
      "You lost!\n",
      "Select one of the three doors:2\n",
      "There is a goat behind the door 3\n",
      "Do you want to switch? Yes/NoNo\n",
      "You won the car!\n",
      "Select one of the three doors:1\n",
      "There is goat behind the door 3\n",
      "Do you want to switch? Yes/NoNo\n",
      "You lost!\n",
      "Select one of the three doors:2\n",
      "There is goat behind the door 3\n",
      "Do you want to switch? Yes/NoNo\n",
      "You lost!\n",
      "Select one of the three doors:3\n",
      "There is goat behind the door 2\n",
      "Do you want to switch? Yes/NoNo\n",
      "You lost!\n",
      "['win', 'lose', 'lose', 'lose', 'lose', 'win', 'win', 'win', 'lose', 'lose', 'lose', 'win', 'win', 'lose', 'lose', 'lose', 'win', 'lose', 'lose', 'lose']\n"
     ]
    }
   ],
   "source": [
    "#Always sticking to the first selected door\n",
    "for i in range(20):\n",
    "    monty()\n",
    "print(win_lose)"
   ]
  },
  {
   "cell_type": "code",
   "execution_count": 45,
   "metadata": {},
   "outputs": [
    {
     "data": {
      "text/plain": [
       "<matplotlib.axes._subplots.AxesSubplot at 0x7faacd8b2910>"
      ]
     },
     "execution_count": 45,
     "metadata": {},
     "output_type": "execute_result"
    },
    {
     "data": {
      "image/png": "[encoded data removed]",
      "text/plain": [
       "<Figure size 432x288 with 1 Axes>"
      ]
     },
     "metadata": {
      "needs_background": "light"
     },
     "output_type": "display_data"
    }
   ],
   "source": [
    "# If stick to the first door picked, the player loses more overall.\n",
    "fig,ax=plt.subplots()\n",
    "sns.countplot(win_lose)"
   ]
  },
  {
   "cell_type": "markdown",
   "metadata": {},
   "source": [
    "#### Conclusion:\n",
    "We see that the experimental probabilities of winning are close to the theoretical probabilities of 1/3(no switch) and 2/3(switch)."
   ]
  }
 ],
 "metadata": {
  "kernelspec": {
   "display_name": "Python 3",
   "language": "python",
   "name": "python3"
  },
  "language_info": {
   "codemirror_mode": {
    "name": "ipython",
    "version": 3
   },
   "file_extension": ".py",
   "mimetype": "text/x-python",
   "name": "python",
   "nbconvert_exporter": "python",
   "pygments_lexer": "ipython3",
   "version": "3.7.4"
  }
 },
 "nbformat": 4,
 "nbformat_minor": 2
}
